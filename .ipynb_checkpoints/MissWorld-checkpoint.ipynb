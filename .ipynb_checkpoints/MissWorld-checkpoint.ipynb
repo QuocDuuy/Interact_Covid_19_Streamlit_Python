{
 "cells": [
  {
   "cell_type": "code",
   "execution_count": 14,
   "id": "23f909db",
   "metadata": {},
   "outputs": [],
   "source": [
    "import streamlit as st\n",
    "import pandas as pd\n",
    "import plotly.express as px"
   ]
  },
  {
   "cell_type": "code",
   "execution_count": 24,
   "id": "6dfe0c3c",
   "metadata": {},
   "outputs": [],
   "source": [
    "st.set_page_config(page_title = 'Test',\n",
    "                    page_icon =':tired_face:',\n",
    "                    layout = 'wide'\n",
    ")\n",
    "\n",
    "df = pd.read_excel(\n",
    "    io = 'DataMW.xlsx',\n",
    "    engine = 'openpyxl',\n",
    "    sheet_name = 'MissWorld',\n",
    "    usecols = 'A:J',\n",
    "    nrows=1000\n",
    ")\n"
   ]
  },
  {
   "cell_type": "code",
   "execution_count": 25,
   "id": "dcecfb89",
   "metadata": {},
   "outputs": [
    {
     "name": "stdout",
     "output_type": "stream",
     "text": [
      "       ID  Year of birth  Height  Nationality  Continents  Measure R1  \\\n",
      "0       1           2003     179          109           1          89   \n",
      "1       2           2003     166          163           1          84   \n",
      "2       3           1994     162           95           3          89   \n",
      "3       4           1998     173          185           5          85   \n",
      "4       5           1995     163           50           5          85   \n",
      "..    ...            ...     ...          ...         ...         ...   \n",
      "995   996           1994     167           80           4          86   \n",
      "996   997           1996     173          146           4          84   \n",
      "997   998           2003     173          147           2          83   \n",
      "998   999           2002     166           54           2          82   \n",
      "999  1000           2004     168           21           2          84   \n",
      "\n",
      "     Measure R2  Measure R3  Count React  Redemption points  \n",
      "0            57          95         1516            15160.0  \n",
      "1            63          95         1583            15830.0  \n",
      "2            54          94         1148            11480.0  \n",
      "3            57          91         1212            12120.0  \n",
      "4            63          94          762             7620.0  \n",
      "..          ...         ...          ...                ...  \n",
      "995          65          92         1856            18560.0  \n",
      "996          64          91          754             7540.0  \n",
      "997          57          91          935             9350.0  \n",
      "998          64          95         1302            13020.0  \n",
      "999          64          90         1813                NaN  \n",
      "\n",
      "[1000 rows x 10 columns]\n"
     ]
    }
   ],
   "source": [
    "print(df)"
   ]
  }
 ],
 "metadata": {
  "kernelspec": {
   "display_name": "Python 3 (ipykernel)",
   "language": "python",
   "name": "python3"
  },
  "language_info": {
   "codemirror_mode": {
    "name": "ipython",
    "version": 3
   },
   "file_extension": ".py",
   "mimetype": "text/x-python",
   "name": "python",
   "nbconvert_exporter": "python",
   "pygments_lexer": "ipython3",
   "version": "3.9.7"
  }
 },
 "nbformat": 4,
 "nbformat_minor": 5
}

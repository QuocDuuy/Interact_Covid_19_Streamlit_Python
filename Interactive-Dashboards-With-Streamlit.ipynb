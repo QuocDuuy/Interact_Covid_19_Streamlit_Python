{
 "cells": [
  {
   "cell_type": "markdown",
   "id": "78de12de",
   "metadata": {},
   "source": [
    "# Implementation"
   ]
  },
  {
   "cell_type": "markdown",
   "id": "ac7073aa",
   "metadata": {},
   "source": [
    "### a. Importing Libraries"
   ]
  },
  {
   "cell_type": "code",
   "execution_count": 1,
   "id": "5d1bb130",
   "metadata": {},
   "outputs": [
    {
     "name": "stderr",
     "output_type": "stream",
     "text": [
      "2022-03-18 15:35:36.756 INFO    numexpr.utils: NumExpr defaulting to 8 threads.\n"
     ]
    }
   ],
   "source": [
    "import streamlit as st\n",
    "import pandas as pd\n",
    "import numpy as np\n",
    "import plotly.express as px\n",
    "from plotly.subplots import make_subplots\n",
    "import plotly.graph_objects as go\n",
    "import matplotlib.pyplot as plt"
   ]
  },
  {
   "cell_type": "markdown",
   "id": "2ea797f9",
   "metadata": {},
   "source": [
    "### b. Importing the dataset"
   ]
  },
  {
   "cell_type": "code",
   "execution_count": 3,
   "id": "60b8880d",
   "metadata": {},
   "outputs": [],
   "source": [
    "df = pd.read_csv(\"C:\\\\Users\\ACER\\Total\\Interactive_COVID-19_Dashboard_Streamlit_Python-main\\database\\district_wise.csv\")"
   ]
  },
  {
   "cell_type": "markdown",
   "id": "9aaf0f0e",
   "metadata": {},
   "source": [
    "# Starting with setting the title and the sidebar title for streamlit dashboard"
   ]
  },
  {
   "cell_type": "code",
   "execution_count": 4,
   "id": "ef372fed",
   "metadata": {},
   "outputs": [
    {
     "name": "stderr",
     "output_type": "stream",
     "text": [
      "2022-03-18 15:36:20.770 \n",
      "  \u001b[33m\u001b[1mWarning:\u001b[0m to view this Streamlit app on a browser, run it with the following\n",
      "  command:\n",
      "\n",
      "    streamlit run C:\\Users\\ACER\\anaconda3\\lib\\site-packages\\ipykernel_launcher.py [ARGUMENTS]\n"
     ]
    },
    {
     "data": {
      "text/plain": [
       "DeltaGenerator(_root_container=1, _provided_cursor=None, _parent=DeltaGenerator(_root_container=0, _provided_cursor=None, _parent=None, _block_type=None, _form_data=None), _block_type=None, _form_data=None)"
      ]
     },
     "execution_count": 4,
     "metadata": {},
     "output_type": "execute_result"
    }
   ],
   "source": [
    "st.title(\"Covid-19 Dashboard For India\")\n",
    "st.markdown('The dashboard will visualize the Covid-19 Situation in India')\n",
    "st.markdown('Coronavirus disease (COVID-19) is an infectious disease caused by a newly discovered the COVID-19 virus will experience mild to moderate respiratory illness and recover without requiring special treatment.')\n",
    "st.sidebar.title('Visualization Selector')\n",
    "st.sidebar.markdown(\"Select the Charts/Plots accordingly:\")"
   ]
  },
  {
   "cell_type": "markdown",
   "id": "4d326c4c",
   "metadata": {},
   "source": [
    "### a. Visualization (part-1: using bar chart and pie chart"
   ]
  },
  {
   "cell_type": "code",
   "execution_count": 5,
   "id": "584e719e",
   "metadata": {},
   "outputs": [],
   "source": [
    "select = st.sidebar.selectbox('Visualization type', ['Bar plot', 'Pie chart'], key='1')\n",
    "if not st.sidebar.checkbox('Hide', True, key='1'):\n",
    "    if select == 'Pie chart':\n",
    "        st.title('Selected top 5 cities')\n",
    "        fig = px.pie(df, values=df['Confirmed'][:5], names=df['State'][:5], title='Total Confirmed Cases')\n",
    "        st.plotly_chart(fig)\n",
    "    if select == 'Bar plot':\n",
    "        st.title('Selected top 5 cities')\n",
    "        fig = go.Figure(data=[go.Bar(name='Confirmed', x=df['State'][:5], y=df['Confirmed'][:5]), go.Bar(name='Recovered', x=df['State'][:5], y=df['Recovered'][:5]), go.Bar(name='Active', x=df['State'][:5], y=df['Active'][:5])])\n",
    "        st.plotly_chart(fig)"
   ]
  },
  {
   "cell_type": "markdown",
   "id": "83924a2a",
   "metadata": {},
   "source": [
    "### b. Visualization (part-2: active and confirmed cases on time series)"
   ]
  },
  {
   "cell_type": "code",
   "execution_count": 7,
   "id": "07db5614",
   "metadata": {},
   "outputs": [],
   "source": [
    "df2 = pd.read_csv('C:\\\\Users\\ACER\\Total\\Interactive_COVID-19_Dashboard_Streamlit_Python-main\\database\\case_time_series.csv')\n",
    "df2['Date'] = df2['Date'].astype('datetime64[ns]')\n",
    "select1 = st.sidebar.selectbox('Select', ['Confirmed', 'Recovered'], key='2')\n",
    "if not st.sidebar.checkbox('Hide', True, key='2'):\n",
    "    if select1 == 'Confirmed':\n",
    "        fig = px.line(df2, x='Date', y='Cases')\n",
    "        st.plotly_chart(fig)\n",
    "    elif select1 == 'Recovered':\n",
    "        fig = px.line(df2, x='Date', y='Recovered')\n",
    "        st.plotly_chart(fig)"
   ]
  },
  {
   "cell_type": "markdown",
   "id": "7c0926c1",
   "metadata": {},
   "source": [
    "### c. Visualization (part-3: Area Charts)"
   ]
  },
  {
   "cell_type": "code",
   "execution_count": 8,
   "id": "c6ad3c34",
   "metadata": {},
   "outputs": [],
   "source": [
    "select2 = st.sidebar.selectbox('Select', ['Confirmed', 'Recovered'], key='3')\n",
    "if not st.sidebar.checkbox('Hide', True, key='3'):\n",
    "    if select2 == 'Confirmed':\n",
    "        fig = px.area(df2, x=\"Date\", y='Cases')\n",
    "        st.plotly_chart(fig)\n",
    "    elif select2 == 'Recovered':\n",
    "        fig = px.area(df2, x='Date', y='Recovered')\n",
    "        st.plotly_chart(fig)"
   ]
  },
  {
   "cell_type": "markdown",
   "id": "cd6c82a2",
   "metadata": {},
   "source": [
    "## Attention: Run the code with command below with anaconda powershell\n",
    "\n",
    "#### streamlit run 'C:/Users/ntmth/Data Science/Interactive-Dashboards-With-Streamlit/covid.py'"
   ]
  }
 ],
 "metadata": {
  "kernelspec": {
   "display_name": "Python 3 (ipykernel)",
   "language": "python",
   "name": "python3"
  },
  "language_info": {
   "codemirror_mode": {
    "name": "ipython",
    "version": 3
   },
   "file_extension": ".py",
   "mimetype": "text/x-python",
   "name": "python",
   "nbconvert_exporter": "python",
   "pygments_lexer": "ipython3",
   "version": "3.9.7"
  }
 },
 "nbformat": 4,
 "nbformat_minor": 5
}
